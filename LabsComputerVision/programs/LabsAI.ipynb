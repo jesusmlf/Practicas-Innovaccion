{
 "cells": [
  {
   "cell_type": "markdown",
   "metadata": {},
   "source": [
    "# Prácticas de Computer Vision\n",
    "Tenemos que tener instalados los siguientes paquetes:\n",
    "\n",
    "mrest y azure-cognitiveservices-vision-computervision\n",
    "\n",
    "Los instalamos de la siguiente manera:\n",
    "\n",
    "!pip install msrest\n",
    "\n",
    "!pip install azure-cognitiveservices-vision-computervision "
   ]
  },
  {
   "cell_type": "code",
   "execution_count": 1,
   "metadata": {},
   "outputs": [],
   "source": [
    "#Establecemos nuestras credenciales\n",
    "\n",
    "#Regularmente esto va en una variable de entorno\n",
    "key = 'a9fe97d9ad87485e9c685390ab83b096'\n",
    "endpoint = 'https://dr-lab01.cognitiveservices.azure.com/'"
   ]
  },
  {
   "cell_type": "code",
   "execution_count": 2,
   "metadata": {},
   "outputs": [],
   "source": [
    "from azure.cognitiveservices.vision.computervision import ComputerVisionClient\n",
    "from msrest.authentication import CognitiveServicesCredentials\n",
    "\n",
    "client = ComputerVisionClient(endpoint, CognitiveServicesCredentials(key))"
   ]
  },
  {
   "cell_type": "code",
   "execution_count": 3,
   "metadata": {},
   "outputs": [
    {
     "ename": "ModuleNotFoundError",
     "evalue": "No module named 'vision'",
     "output_type": "error",
     "traceback": [
      "\u001b[0;31m---------------------------------------------------------------------------\u001b[0m",
      "\u001b[0;31mModuleNotFoundError\u001b[0m                       Traceback (most recent call last)",
      "\u001b[1;32m/home/gzuz/Projects/practicas_innovaccion/LabsComputerVision/LabsAI.ipynb Cell 4'\u001b[0m in \u001b[0;36m<cell line: 1>\u001b[0;34m()\u001b[0m\n\u001b[0;32m----> <a href='vscode-notebook-cell:/home/gzuz/Projects/practicas_innovaccion/LabsComputerVision/LabsAI.ipynb#ch0000003?line=0'>1</a>\u001b[0m \u001b[39mimport\u001b[39;00m \u001b[39mvision\u001b[39;00m\n\u001b[1;32m      <a href='vscode-notebook-cell:/home/gzuz/Projects/practicas_innovaccion/LabsComputerVision/LabsAI.ipynb#ch0000003?line=1'>2</a>\u001b[0m \u001b[39mimport\u001b[39;00m \u001b[39mos\u001b[39;00m\n\u001b[1;32m      <a href='vscode-notebook-cell:/home/gzuz/Projects/practicas_innovaccion/LabsComputerVision/LabsAI.ipynb#ch0000003?line=2'>3</a>\u001b[0m \u001b[39mimport\u001b[39;00m \u001b[39mmatplotlib\u001b[39;00m\u001b[39m.\u001b[39;00m\u001b[39mpyplot\u001b[39;00m \u001b[39mas\u001b[39;00m \u001b[39mplt\u001b[39;00m\n",
      "\u001b[0;31mModuleNotFoundError\u001b[0m: No module named 'vision'"
     ]
    }
   ],
   "source": [
    "import vision\n",
    "import os\n",
    "import matplotlib.pyplot as plt\n",
    "\n",
    "%matplotlib inline\n",
    "\n",
    "#Obtenemos la imagen\n",
    "image_path = '../data/mujer.jpg'\n",
    "\n",
    "image_stream = open(image_path, \"rb\")\n",
    "\n",
    "description = client.describe_image_in_stream(image_stream)\n",
    "print(description)\n",
    "\n",
    "vision.show_image_caption(image_path, description)"
   ]
  }
 ],
 "metadata": {
  "kernelspec": {
   "display_name": "Python 3.10.4 ('Microsoft_python')",
   "language": "python",
   "name": "python3"
  },
  "language_info": {
   "codemirror_mode": {
    "name": "ipython",
    "version": 3
   },
   "file_extension": ".py",
   "mimetype": "text/x-python",
   "name": "python",
   "nbconvert_exporter": "python",
   "pygments_lexer": "ipython3",
   "version": "3.10.4"
  },
  "orig_nbformat": 4,
  "vscode": {
   "interpreter": {
    "hash": "cb6fde619a2ac018a7e7e264f3bf0beb7334633d8a213d72d66e56b0171cb41d"
   }
  }
 },
 "nbformat": 4,
 "nbformat_minor": 2
}
